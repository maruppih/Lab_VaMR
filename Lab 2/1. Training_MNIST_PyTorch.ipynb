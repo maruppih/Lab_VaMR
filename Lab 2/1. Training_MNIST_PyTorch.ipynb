{
  "nbformat": 4,
  "nbformat_minor": 0,
  "metadata": {
    "colab": {
      "provenance": [],
      "gpuType": "T4"
    },
    "kernelspec": {
      "name": "python3",
      "display_name": "Python 3"
    },
    "language_info": {
      "name": "python"
    },
    "accelerator": "GPU"
  },
  "cells": [
    {
      "cell_type": "markdown",
      "source": [
        "MNIST è un dataset in scala di grigi, sono cifre da 0 a 9 scritte a mano, hanno dimensione 28x28 con 1 solo layer di profondità (28, 28, 1)\n",
        "\n",
        "Pytorch le legge come (1, 28, 28)"
      ],
      "metadata": {
        "id": "Rl_1VZxSXHHi"
      }
    },
    {
      "cell_type": "code",
      "execution_count": null,
      "metadata": {
        "id": "21qeEwO6FyN-"
      },
      "outputs": [],
      "source": [
        "import torch\n",
        "import torch.nn as nn # riguardano la definizione dei layer, funzioni loss...\n",
        "import torch.nn.functional as F # ci sono le vere e proprie funzioni, per esempio quelle di attivazione\n",
        "import torch.optim as optim # ottimizzatori e tutto ciò che li riguarda, anche gli scheduler del learning rate\n",
        "from torchvision import datasets, transforms # importa i dataset (ne hanno tanti basilari che possono essere tranquillamente scaricati) e i transforms che serve per applicare trasformazioni sulle immagini"
      ]
    },
    {
      "cell_type": "code",
      "source": [
        "class Net(nn.Module): # architettura rete\n",
        "    def __init__(self): # si definisce una init, sono classi che estendono module di pytorch, classe che estende Module, bisogna mettere init e forward\n",
        "        # nell'init si definisce la struttura della rete ovvero il numero di layer, è il costruttore della classe, si mettono i parametri\n",
        "        # nell'init si dichiarano i layer, non è importante metterli in ordine perché l'ordine di esecuzione viene definito nel forward\n",
        "        # si mettono i layer di cui bisogna definire la strutta, ma non hanno niente a che vedere con la struttura effetiva della rete che invece viene definita nel forward\n",
        "        \"\"\" from torch.docs\n",
        "            torch.nn.Conv2d(in_channels, out_channels, kernel_size, stride=1, padding=0, dilation=1,\n",
        "                            groups=1, bias=True, padding_mode='zeros', device=None, dtype=None) # dim kernel della convoluzione, il device ci fa andare in GPU, padding va bene 0 in MNIST perchè il background è nero, il foreground è bianco 1\n",
        "        \"\"\"\n",
        "        super(Net, self).__init__()\n",
        "        self.conv1 = nn.Conv2d(1, 32, 3, 1) # ha un canale di ingresso (è =1 perché le immagini MNIST hanno 1 canale), perchè le immagini di mnist hanno un canale, 32 uscite, kernel 3 e stride 1\n",
        "        self.conv2 = nn.Conv2d(32, 64, 3, 1) # i canali di ingresso diventano 32 (altrimenti il forward si romperebbe!), aumentiamo gli output, lasciamo così kernel e stride\n",
        "        # self.dropout = nn.Dropout(p=0.4)\n",
        "        # self.bn1 = nn.BatchNorm1d(9216) # 1D è sui vettori, 2D è sulle immagini\n",
        "        # self.bn2 = nn.BatchNorm1d(128) # dal flatten in su si può usare il batchnorm2d, dal flatten in giù si usa batchnorm1d\n",
        "        # dopo maxpooling facciamo un flatten\n",
        "        self.fc1 = nn.Linear(9216, 128) # ingresso: dimensione uscita flatten, li mappa a 128 # nb: il bias è impostato su true di default # (3 x 3 x 64 x 32) / 2\n",
        "        self.fc2 = nn.Linear(128, 10) # da 128 andiamo a 10, sarà l'ingresso della softmax\n",
        "\n",
        "        # dichiarazione layer lineare: prima posizione: prende in ingresso la dimensione delle features, in seconda posizione prende la dimensione di uscita delle features, e poi c'è il bias\n",
        "\n",
        "        # qui non ci saranno tutti i layer della rete, si dichiarano solo quelli che hanno bisogno dell'init\n",
        "\n",
        "    def forward(self, x):\n",
        "      # si definisce il forward della rete\n",
        "      # si usano le relu, maxpooling... si chiamano le funzioni, struttura della rete in favore delle funzioni\n",
        "      # il primo batch che eseguiamo è il più lento, perché la prima volta che fa il forward deve costruire e strutturare la rete\n",
        "      # viene definito ordine esecuzione layer del modello!\n",
        "      # questo è importante perchè le dl non usano questa eager-mode ma definiscono la struttura della rete prima dell'inizio del batch\n",
        "      # qui usiamo la eager-mode, facile per il debug!\n",
        "      # il maxpooling riduce dimensione immagine, non ne mettiamo molte sennò riduce tantissimo l'immagine!\n",
        "      # nel pytorch si mette prima RGB e poi dimensione, quindi (batch_size, numero canali, altezza, larghezza)\n",
        "      # x.shape = Bs, nC, H, W\n",
        "      # qui si dichiarano gli altri livelli\n",
        "        x = self.conv1(x)\n",
        "        x = F.relu(x)\n",
        "        # x = self.dropout(x)\n",
        "        x = self.conv2(x)\n",
        "        x = F.relu(x)\n",
        "        x = F.max_pool2d(x, 2)\n",
        "        # x = self.dropout(x)\n",
        "        x = torch.flatten(x, 1) # da tensore diventa un vettore (non toccando il batch_size), da 3 dim si va a 2 # da qui in poi, struttura della rete piuttosto fissa\n",
        "        # x = self.bn1(x)\n",
        "        x = self.fc1(x)\n",
        "        y = F.relu(x) # y\n",
        "        # x = self.dropout(x)\n",
        "        # x = self.bn2(x)\n",
        "        y = self.fc2(x) # y per plottare features\n",
        "        output = F.log_softmax(y, dim=1) # l'output di questa rete sarà una softmax, è un tensore con dim numero_valori_batch x n_classi (es: batch = 64, 64 x 10, somma a 1, è come la probabilità che la rete dà a un input di appartenere a una certa classe) # in uscita abbiamo il log della softmax\n",
        "        # y qui sopra, nella log_softmax\n",
        "        return output\n"
      ],
      "metadata": {
        "id": "-TZcxR2tGhYU"
      },
      "execution_count": null,
      "outputs": []
    },
    {
      "cell_type": "code",
      "source": [
        "def train(model, device, train_loader, optimizer, epoch):\n",
        "    model.train() # su pytorch ci sono layer che a seconda se è a test o a train cambia comportamento\n",
        "    # LOOP DI TRAINING, si fa il ciclo sul Loader, su tutto il Dataset\n",
        "    losses = []\n",
        "    for batch_idx, (data, target) in enumerate(train_loader): # enumerate perchè ci serve id batch, data sono le immagini (64 immagini - batch - e 64 target), dati che arrivano già trasformati da transform, abbiamo già tensori normalizzati\n",
        "      # IMPORTANTE CHE SIANO TRASFORMATI A TENSORI\n",
        "        data, target = data.to(device), target.to(device) # mandiamo dati e label sulla GPU, come la rete! IMPORTANTE!!! ERRORE SE STANNO SU CPU E GPU SEPARATAMENTE\n",
        "        optimizer.zero_grad() # azzera i gradienti ad ogni loop su train_loader IMPORTANTE! in alcuni contensti non serve, contesti specifici. Deve essere messo prima del backprop, se non li azzeriamo, sommiamo passati + attuali, raramente serve\n",
        "\n",
        "        # FORWARD\n",
        "        output = model(data) # output 64 x 10, batch x numero_classi, valori che sommano a 1, perchè in fondo alla rete abbiamo la softmax\n",
        "        loss = F.nll_loss(output, target) # calcoliamo l'errore, cross entropy loss sulla base output rete e ground truth. è l'errore tra l'uscita rete e ground truth. è tipicamente un tensore che ha come funzioni cosa che possono fare tipo la backprop\n",
        "        loss.backward() # calcola la derivata dell'uscita rispetto all'inuput del layer, il calcolo della derivata può essere scomposta con le derivate composte, si vanno a calcolare sempre altre due deriate ovvero la derivata di uscita di un layer rispetto all'entrata e la derivata d'uscita rispetto ai pesi del layer\n",
        "        # PASSO OTTIMIZZATORE\n",
        "        optimizer.step()\n",
        "\n",
        "        # FINISCO TRAIN LOADER E RIPETO PER TUTTE LE EPOCHE\n",
        "        if batch_idx % 500 == 0:\n",
        "            print('Train Epoch: {} [{}/{} ({:.0f}%)]\\tLoss: {:.6f}'.format(\n",
        "                epoch, batch_idx * len(data), len(train_loader.dataset),\n",
        "                100. * batch_idx / len(train_loader), loss.item())) # loss.item() restituisce il float dell'errore che stiamo facendo\n",
        "            losses.append(loss.item())\n",
        "    return np.mean(losses)"
      ],
      "metadata": {
        "id": "PWQBn9WEIGW-"
      },
      "execution_count": null,
      "outputs": []
    },
    {
      "cell_type": "code",
      "source": [
        "def test(model, device, test_loader):\n",
        "    model.eval() # DIFFERENZA! modalità test\n",
        "    # non c'è nè la backprop nè l'ottimizzazione\n",
        "    test_loss = 0\n",
        "    correct = 0\n",
        "    with torch.no_grad(): # tutto il calcolo dentro la funzione di test noi vogliamo EVITARE di calcolare il gradiente, così non lo calcoliamo, calcoli più veloci, solo FORWRD!\n",
        "        for data, target in test_loader:\n",
        "            data, target = data.to(device), target.to(device)\n",
        "            output = model(data)\n",
        "            test_loss += F.nll_loss(output, target, reduction='sum').item()  # sum up batch loss, calcoliamo errore di test\n",
        "            # CALCOLO DELL'ACCURATEZZA\n",
        "            pred = output.argmax(dim=1, keepdim=True)  # get the index of the max log-probability, per ogni vettore nel batch prendo l'argmax, prendo la classe predetta dalla rete per l'immagine, pred tensore 64 elementi, 1 (id classe predetta)\n",
        "            correct += pred.eq(target.view_as(pred)).sum().item() # calcola accuratezza modello, si somma quante volte il target è uguale alla mia predizione\n",
        "\n",
        "    test_loss /= len(test_loader.dataset) # errori test / quante volte ci ho preso\n",
        "\n",
        "    print('\\nTest set: Average loss: {:.4f}, Accuracy: {}/{} ({:.0f}%)\\n'.format(\n",
        "        test_loss, correct, len(test_loader.dataset),\n",
        "        100. * correct / len(test_loader.dataset)))\n",
        "    test_acc = correct / len(test_loader.dataset)\n",
        "    return test_loss, test_acc"
      ],
      "metadata": {
        "id": "SozrdGSSITV7"
      },
      "execution_count": null,
      "outputs": []
    },
    {
      "cell_type": "code",
      "source": [
        "import numpy as np\n",
        "\n",
        "device = torch.device(\"cuda\") # to use the GPU # main, vogliamo usare GPU\n",
        "batch_size = 64 #iperparametro\n",
        "epochs = 10 # iperparametro\n",
        "lr = 0.001 # 0.1\n",
        "\n",
        "# quando siamo arrivati a convergenza? 1) quando l'errore è prossimo a 0, quando l'errore tra l'uscita e ground truth è circa 0, attenzione all'overfit (se è proprio 0 e non 0,qualcosa)!\n",
        "# 2) guardare anche accuratezza del modello (non si fa molto... principalmente si guarda la loss)\n",
        "\n",
        "# una buona scelta del learning rate è fondamentale per la convergenza del modello, cambiarlo NEL REPORT: COSA SUCCEDE CON UN LR ALTO, BASSO E CORRETTO?\n",
        "\n",
        "# BLOCCO DEI DATI\n",
        "\n",
        "transform=transforms.Compose([\n",
        "        # qui verranno applicate le trasformazioni che modificano le immagini, DATA AUGMENTATION, vengono fatte PRIMA della trasformazione in tensore\n",
        "        transforms.ToTensor(), # trasformazione, converte un'immagine in un tensore e scala i valori in maniera corretta (perché tutte le reti processano float32, siccome le immagini sono spesso int, questa trasformazione fa un cast da int a float) # a volte per velocizzare si usa una libreria per usare float16 per velocizzare il forward\n",
        "        # da H x W x C si va a C x H x W\n",
        "        transforms.Normalize((0.1307,), (0.3081,)) # trasforma i RGB da 0 a 255 in un range da 0 a 1, è bene che siano così per il processo di elaborazione della rete, evitano l'exploding gradient # questi numeri sono la media e la standard deviation calcolati sul dataset\n",
        "        # se voglio trovarli a mano, devo calcolare media e sd su tutto il dataset\n",
        "      ])\n",
        "# posso definire una lista di trasformazioni ogni qual volta che faccio un processo di estrazione dei dati dal dataset\n",
        "# normalizzo i valori per avere dati più uniformi\n",
        "\n",
        "# spesso le trasformazioni sono diverse per train e test\n",
        "\n",
        "dataset1 = datasets.MNIST('../data', train=True, download=True, transform=transform) # scarico il ds, dove scaricarlo, se è di train (prendo lo split che riguarda il train) e che trasform uso\n",
        "dataset2 = datasets.MNIST('../data', train=False, transform=transform) # (se metto train = FALSE prendo lo split di test)\n",
        "# alcune trasformazioni sono obbligatorie per processare l'immagine, perché sono array di interi\n",
        "\n",
        "# DATALOADER\n",
        "# crea un iteratore sul ds, specifica come andiamo a estrarre i dati dal ds, per es definiamo grandezza batch\n",
        "# il DataLoader andrà a prendere dal Ds tot elementi (batch)\n",
        "# estraggo un batch dal mio loader\n",
        "# i DataLoader sono degli iteratori sul dataset, vanno a chiamare all'interno della classe Dataset la funzione getDataset(), pesco i dati dal Dataset\n",
        "train_loader = torch.utils.data.DataLoader(dataset1, num_workers=1, pin_memory=True,shuffle=True,batch_size=batch_size) # dati presi randomicamente, sul trainloader E' OBBLIGATORIO, n_worker = quanti thread per estrarre dati (in Dataset piccini va bene 1, in Dataset complessi se ne mettono di più), pin_memory = come velgono salvati i dati in GPU (?)\n",
        "# c'è un valore chiamato drop_last, ogni batch ha 64, se drop_last = FALSE l'ultimo batch può avere una dimensione diversa da 64 (se i nostri elementi non è divisibile per 64, rimangono fuori dei valori), dipende dai contesti applicativi\n",
        "# di base è su FALSE\n",
        "# drop_last = TRUE tutti stessa dimensione, è bene fare step ottimizzazione con un numero di elementi ben stabilito, TRUE SU TRAIN E FALSE SU TEST\n",
        "test_loader = torch.utils.data.DataLoader(dataset2, num_workers=1, pin_memory=True,shuffle=True,batch_size=batch_size) # nel test non è obbligatorio # non è obbligatorio nemmeno fare lo shuffle\n",
        "\n",
        "model = Net().to(device) # istanzio oggetto di classe e lo alloco in GPU (device cuda)\n",
        "\n",
        "optimizer = optim.SGD(model.parameters(), lr = lr, momentum = 0.9) # qui weightdecay # definiziamo l'optimizer, usiamo SGD, in ingresso vuole i parametri da ottimizzare (passo model.parameters() che mi dà tutti i parametri, a volte li dobbiamo filtrare se non li vogliamo tutti)\n",
        "# il secondo parametro è il LEARNING RATE, valore di default 0.1, ma non è ottimale per MNIST, di solito se ne usa uno più basso, perché sennò sarebbe troppo semplice apprendere\n",
        "# il momentum è a 0, basta mettere \", momentum = 0.9\" CAMBIARE!!! 1 NO perchè se momentum = 1 sto fermo, quindi non si mette, NON SI AGGIORNA!! tipicamente è tra 0 e 9, 0.99\n",
        "# un momentum alto è importante quando il batch_size è molto piccolo, in questo modo limitiamo il gradiente a un certo momento, ma diamo peso a tutto il dataset\n",
        "\n",
        "\n",
        "#optimizer = optim.AdamW(model.parameters(), lr = lr)\n",
        "\n",
        "\n",
        "#for epoch in range(1, epochs + 1):\n",
        "    # EPOCA\n",
        "    # due step: train e test\n",
        "    # sarebbe stato meglio usare il validation set e il test usarlo a fine\n",
        "    #train(model, device, train_loader, optimizer, epoch)\n",
        "    #test(model, device, test_loader)\n",
        "\n",
        "\n",
        "train_losses = []\n",
        "test_losses = []\n",
        "test_accuracies =[]\n",
        "\n",
        "best_acc = 0\n",
        "\n",
        "for epoch in range(1, epochs + 1):\n",
        "    train_loss = train(model, device, train_loader, optimizer, epoch)\n",
        "    train_losses.append(train_loss)\n",
        "    test_loss, test_acc = test(model, device, test_loader)\n",
        "    #if test\n",
        "\n",
        "    test_losses.append(test_loss)\n",
        "    test_accuracies.append(test_acc)"
      ],
      "metadata": {
        "id": "0fHwy-U4IZRc",
        "colab": {
          "base_uri": "https://localhost:8080/"
        },
        "outputId": "4bbf33c5-b811-4e0a-a0cb-f49b994ddef6"
      },
      "execution_count": null,
      "outputs": [
        {
          "output_type": "stream",
          "name": "stdout",
          "text": [
            "Train Epoch: 1 [0/60000 (0%)]\tLoss: 2.311726\n",
            "Train Epoch: 1 [32000/60000 (53%)]\tLoss: 0.507452\n",
            "\n",
            "Test set: Average loss: 0.2338, Accuracy: 9313/10000 (93%)\n",
            "\n",
            "Train Epoch: 2 [0/60000 (0%)]\tLoss: 0.118038\n",
            "Train Epoch: 2 [32000/60000 (53%)]\tLoss: 0.153211\n",
            "\n",
            "Test set: Average loss: 0.1242, Accuracy: 9667/10000 (97%)\n",
            "\n",
            "Train Epoch: 3 [0/60000 (0%)]\tLoss: 0.106938\n",
            "Train Epoch: 3 [32000/60000 (53%)]\tLoss: 0.195372\n",
            "\n",
            "Test set: Average loss: 0.0842, Accuracy: 9757/10000 (98%)\n",
            "\n",
            "Train Epoch: 4 [0/60000 (0%)]\tLoss: 0.021335\n",
            "Train Epoch: 4 [32000/60000 (53%)]\tLoss: 0.082361\n",
            "\n",
            "Test set: Average loss: 0.0663, Accuracy: 9798/10000 (98%)\n",
            "\n",
            "Train Epoch: 5 [0/60000 (0%)]\tLoss: 0.113996\n",
            "Train Epoch: 5 [32000/60000 (53%)]\tLoss: 0.035617\n",
            "\n",
            "Test set: Average loss: 0.0574, Accuracy: 9825/10000 (98%)\n",
            "\n",
            "Train Epoch: 6 [0/60000 (0%)]\tLoss: 0.031735\n",
            "Train Epoch: 6 [32000/60000 (53%)]\tLoss: 0.091675\n",
            "\n",
            "Test set: Average loss: 0.0568, Accuracy: 9816/10000 (98%)\n",
            "\n",
            "Train Epoch: 7 [0/60000 (0%)]\tLoss: 0.097679\n",
            "Train Epoch: 7 [32000/60000 (53%)]\tLoss: 0.048994\n",
            "\n",
            "Test set: Average loss: 0.0509, Accuracy: 9838/10000 (98%)\n",
            "\n",
            "Train Epoch: 8 [0/60000 (0%)]\tLoss: 0.090004\n",
            "Train Epoch: 8 [32000/60000 (53%)]\tLoss: 0.019205\n",
            "\n",
            "Test set: Average loss: 0.0512, Accuracy: 9837/10000 (98%)\n",
            "\n",
            "Train Epoch: 9 [0/60000 (0%)]\tLoss: 0.061070\n",
            "Train Epoch: 9 [32000/60000 (53%)]\tLoss: 0.008586\n",
            "\n",
            "Test set: Average loss: 0.0501, Accuracy: 9847/10000 (98%)\n",
            "\n",
            "Train Epoch: 10 [0/60000 (0%)]\tLoss: 0.074560\n",
            "Train Epoch: 10 [32000/60000 (53%)]\tLoss: 0.080749\n",
            "\n",
            "Test set: Average loss: 0.0473, Accuracy: 9843/10000 (98%)\n",
            "\n"
          ]
        }
      ]
    },
    {
      "cell_type": "markdown",
      "source": [
        "**SGD lr = 0.001**"
      ],
      "metadata": {
        "id": "BDw_DhUz3Xqd"
      }
    },
    {
      "cell_type": "markdown",
      "source": [
        "Train Epoch: 1 [0/60000 (0%)]\tLoss: 2.310383\n",
        "Train Epoch: 1 [32000/60000 (53%)]\tLoss: 0.755164\n",
        "\n",
        "Test set: Average loss: 0.4351, Accuracy: 8841/10000 (88%)\n",
        "\n",
        "Train Epoch: 2 [0/60000 (0%)]\tLoss: 0.437150\n",
        "Train Epoch: 2 [32000/60000 (53%)]\tLoss: 0.308991\n",
        "\n",
        "Test set: Average loss: 0.3336, Accuracy: 9034/10000 (90%)\n",
        "\n",
        "Train Epoch: 3 [0/60000 (0%)]\tLoss: 0.272750\n",
        "Train Epoch: 3 [32000/60000 (53%)]\tLoss: 0.449546\n",
        "\n",
        "Test set: Average loss: 0.3087, Accuracy: 9105/10000 (91%)\n",
        "\n",
        "Train Epoch: 4 [0/60000 (0%)]\tLoss: 0.322619\n",
        "Train Epoch: 4 [32000/60000 (53%)]\tLoss: 0.426755\n",
        "\n",
        "Test set: Average loss: 0.2932, Accuracy: 9167/10000 (92%)\n",
        "\n",
        "Train Epoch: 5 [0/60000 (0%)]\tLoss: 0.241295\n",
        "Train Epoch: 5 [32000/60000 (53%)]\tLoss: 0.243182\n",
        "\n",
        "Test set: Average loss: 0.2855, Accuracy: 9184/10000 (92%)\n",
        "\n",
        "Train Epoch: 6 [0/60000 (0%)]\tLoss: 0.270395\n",
        "Train Epoch: 6 [32000/60000 (53%)]\tLoss: 0.234094\n",
        "\n",
        "Test set: Average loss: 0.2759, Accuracy: 9216/10000 (92%)\n",
        "\n",
        "Train Epoch: 7 [0/60000 (0%)]\tLoss: 0.205451\n",
        "Train Epoch: 7 [32000/60000 (53%)]\tLoss: 0.236250\n",
        "\n",
        "Test set: Average loss: 0.2636, Accuracy: 9237/10000 (92%)\n",
        "\n",
        "Train Epoch: 8 [0/60000 (0%)]\tLoss: 0.319049\n",
        "Train Epoch: 8 [32000/60000 (53%)]\tLoss: 0.201534\n",
        "\n",
        "Test set: Average loss: 0.2574, Accuracy: 9267/10000 (93%)\n",
        "\n",
        "Train Epoch: 9 [0/60000 (0%)]\tLoss: 0.559297\n",
        "Train Epoch: 9 [32000/60000 (53%)]\tLoss: 0.431375\n",
        "\n",
        "Test set: Average loss: 0.2457, Accuracy: 9288/10000 (93%)\n",
        "\n",
        "Train Epoch: 10 [0/60000 (0%)]\tLoss: 0.267279\n",
        "Train Epoch: 10 [32000/60000 (53%)]\tLoss: 0.256120\n",
        "\n",
        "Test set: Average loss: 0.2320, Accuracy: 9314/10000 (93%)"
      ],
      "metadata": {
        "id": "fblPsJzZ2ptS"
      }
    },
    {
      "cell_type": "code",
      "source": [
        "print(model)\n",
        "# fa vedere i livelli dichiarati in init\n"
      ],
      "metadata": {
        "id": "d4oMUfGYoHZA"
      },
      "execution_count": null,
      "outputs": []
    },
    {
      "cell_type": "code",
      "source": [
        "print(dataset1) # dati di training"
      ],
      "metadata": {
        "id": "_P9DftN3oqNq",
        "colab": {
          "base_uri": "https://localhost:8080/"
        },
        "outputId": "8615e453-cedd-45a2-b904-b4eab80d4f7a"
      },
      "execution_count": null,
      "outputs": [
        {
          "output_type": "stream",
          "name": "stdout",
          "text": [
            "Dataset MNIST\n",
            "    Number of datapoints: 60000\n",
            "    Root location: ../data\n",
            "    Split: Train\n",
            "    StandardTransform\n",
            "Transform: Compose(\n",
            "               ToTensor()\n",
            "               Normalize(mean=(0.1307,), std=(0.3081,))\n",
            "           )\n"
          ]
        }
      ]
    },
    {
      "cell_type": "code",
      "source": [
        "print(dataset2) # dati di test"
      ],
      "metadata": {
        "id": "vMpetFGtOla0",
        "outputId": "f854f2a3-83a9-4759-936e-74744ff16fd6",
        "colab": {
          "base_uri": "https://localhost:8080/"
        }
      },
      "execution_count": null,
      "outputs": [
        {
          "output_type": "stream",
          "name": "stdout",
          "text": [
            "Dataset MNIST\n",
            "    Number of datapoints: 10000\n",
            "    Root location: ../data\n",
            "    Split: Test\n",
            "    StandardTransform\n",
            "Transform: Compose(\n",
            "               ToTensor()\n",
            "               Normalize(mean=(0.1307,), std=(0.3081,))\n",
            "           )\n"
          ]
        }
      ]
    },
    {
      "cell_type": "code",
      "source": [
        "print(dataset1.data.shape)"
      ],
      "metadata": {
        "id": "T0r-6s8Bo2A-"
      },
      "execution_count": null,
      "outputs": []
    },
    {
      "cell_type": "code",
      "source": [
        "print(dataset1.data[0]) # primo elemento"
      ],
      "metadata": {
        "id": "iXQDloqPo-pQ"
      },
      "execution_count": null,
      "outputs": []
    },
    {
      "cell_type": "code",
      "source": [
        "print(dataset1.data[0].shape) # stampa dimensione primo elemento"
      ],
      "metadata": {
        "id": "F7jcvh0bpHps"
      },
      "execution_count": null,
      "outputs": []
    },
    {
      "cell_type": "code",
      "source": [
        "print([f for f in train_loader][0]) # costruisco lista per batch (64) e prendo il primo elemento del train_loader NB non c'è corrispondeza tra primo elemento dataset1 e train_loader perché lo shuffle è a True"
      ],
      "metadata": {
        "id": "PLX35akkpN7w"
      },
      "execution_count": null,
      "outputs": []
    },
    {
      "cell_type": "markdown",
      "source": [
        "##Exercise 0\n",
        "Create a plot of the values of the training losses and training accuracies (e dei test).\n",
        "\n",
        "This can help to monitor how the training is going."
      ],
      "metadata": {
        "id": "ULyrWbZ-x-_t"
      }
    },
    {
      "cell_type": "code",
      "source": [
        "# salvarli valori loss e accuratezza nel train e nel test, per non prenderle tutte si fa la media dell'epoca (a volte è importante tenersi anche le loss calcolati per ogni iterazione)\n",
        "# dopo non si rialza il test ...\n",
        "# overfit: 100% accuratezza train set, ma accuracy bassissima su test\n",
        "import matplotlib.pyplot as plt"
      ],
      "metadata": {
        "id": "abuLMfWj69VE"
      },
      "execution_count": null,
      "outputs": []
    },
    {
      "cell_type": "code",
      "source": [
        "import matplotlib.pyplot as plt\n",
        "import numpy as np\n",
        "\n",
        "\n",
        "# Creazione della figura e degli assi\n",
        "fig, (plt1, plt2) = plt.subplots(1, 2, figsize=(10, 4))  # 1 riga, 2 colonne\n",
        "\n",
        "# Plot del primo grafico\n",
        "plt1.plot(train_losses, '-o', label = 'Train Losses')\n",
        "plt1.plot(test_losses, '-o', label = 'Test Losses')\n",
        "plt1.legend()\n",
        "\n",
        "\n",
        "# Plot del secondo grafico\n",
        "plt.plot(test_accuracies, label = lr, color = 'green')\n",
        "plt.legend()\n",
        "\n",
        "\n",
        "# Regolazione del layout per evitare sovrapposizioni\n",
        "plt.tight_layout()\n",
        "\n",
        "# Mostra i grafici\n",
        "plt.show()"
      ],
      "metadata": {
        "colab": {
          "base_uri": "https://localhost:8080/",
          "height": 406
        },
        "id": "zb68-bI3sJyj",
        "outputId": "ef6baa85-399a-4627-e7e9-d5a508e36400"
      },
      "execution_count": null,
      "outputs": [
        {
          "output_type": "display_data",
          "data": {
            "text/plain": [
              "<Figure size 1000x400 with 2 Axes>"
            ],
            "image/png": "[encoded data removed]"
          },
          "metadata": {}
        }
      ]
    },
    {
      "cell_type": "markdown",
      "source": [
        "# Rete con 3 Layer di Dropout (p=0.4)"
      ],
      "metadata": {
        "id": "sagsiCtSzm-Z"
      }
    },
    {
      "cell_type": "markdown",
      "source": [
        "## Exercise 1\n",
        "\n",
        "Try to change the network architecture (e.g. use all linear layers) or network hyperparameters (e.g. dimensions of the CNN kernel, stride, padding)\n",
        "\n",
        "How the performance change? Why?\n",
        "\n",
        "Cambiare architettua della rete e vedere cosa succede alle performance, e/o gli iperparametri della rete, per ora lasciare invariati parametri di training, rivedere anche i plot (non cambiare per esempio il kernel della CNN e il lr, perché fare due cambi così diversi non ci permette di capire cosa fa cambiare le performance)\n",
        "\n",
        "mettere dropout e batch normalization\n",
        "\n",
        "[NOME]: stride = 2 e tolto maxpool, più o meno uguale, accuracy 99 epoche 10\n",
        "\n",
        "quando si va a complicare il training, servono più epoche per arrivare allo stesso punto di accuracy/loss\n",
        "\n",
        "weigh_decay?"
      ],
      "metadata": {
        "id": "gR4tfzHCGoZU"
      }
    },
    {
      "cell_type": "code",
      "source": [
        "class Net(nn.Module): # architettura rete\n",
        "    def __init__(self): # si definisce una init, sono classi che estendono module di pytorch, classe che estende Module, bisogna mettere init e forward\n",
        "        super(Net, self).__init__()\n",
        "        self.conv1 = nn.Conv2d(1, 32, 3, 1) # ha un canale di ingresso (è =1 perché le immagini MNIST hanno 1 canale), perchè le immagini di mnist hanno un canale, 32 uscite, kernel 3 e stride 1\n",
        "        self.conv2 = nn.Conv2d(32, 64, 3, 1) # i canali di ingresso diventano 32 (altrimenti il forward si romperebbe!), aumentiamo gli output, lasciamo così kernel e stride\n",
        "        self.dropout = nn.Dropout(p=0.4)\n",
        "        # self.bn1 = nn.BatchNorm1d(9216) # 1D è sui vettori, 2D è sulle immagini\n",
        "        # self.bn2 = nn.BatchNorm1d(128) #dal flatten in su si può usare il batchnorm2d, dal flatten in giù si usa batchnorm1d\n",
        "        # dopo maxpooling facciamo un flatten\n",
        "        self.fc1 = nn.Linear(9216, 128) # ingresso: dimensione uscita flatten, li mappa a 128 # nb: il bias è impostato su true di default # (3 x 3 x 64 x 32) / 2\n",
        "        self.fc2 = nn.Linear(128, 10) # da 128 andiamo a 10, sarà l'ingresso della softmax\n",
        "\n",
        "    def forward(self, x):\n",
        "        x = self.conv1(x)\n",
        "        x = F.relu(x)\n",
        "        x = self.dropout(x)\n",
        "        x = self.conv2(x)\n",
        "        x = F.relu(x)\n",
        "        x = F.max_pool2d(x, 2)\n",
        "        x = self.dropout(x)\n",
        "        x = torch.flatten(x, 1) # da tensore diventa un vettore (non toccando il batch_size), da 3 dim si va a 2 # da qui in poi, struttura della rete piuttosto fissa\n",
        "        # x = self.bn1(x)\n",
        "        x = self.fc1(x)\n",
        "        y = F.relu(x) # y\n",
        "        x = self.dropout(x)\n",
        "        # x = self.bn2(x)\n",
        "        y = self.fc2(x) # y per plottare features\n",
        "        output = F.log_softmax(y, dim=1) # l'output di questa rete sarà una softmax, è un tensore con dim numero_valori_batch x n_classi (es: batch = 64, 64 x 10, somma a 1, è come la probabilità che la rete dà a un input di appartenere a una certa classe) # in uscita abbiamo il log della softmax\n",
        "        # y qui sopra, nella log_softmax\n",
        "        return output"
      ],
      "metadata": {
        "id": "9-2HMCKrOzB7"
      },
      "execution_count": null,
      "outputs": []
    },
    {
      "cell_type": "code",
      "source": [
        "def train(model, device, train_loader, optimizer, epoch):\n",
        "    model.train()\n",
        "    losses = []\n",
        "    for batch_idx, (data, target) in enumerate(train_loader):\n",
        "        data, target = data.to(device), target.to(device)\n",
        "        optimizer.zero_grad()\n",
        "        output = model(data)\n",
        "        loss = F.nll_loss(output, target)\n",
        "        loss.backward()\n",
        "        optimizer.step()\n",
        "\n",
        "        if batch_idx % 500 == 0:\n",
        "            print('Train Epoch: {} [{}/{} ({:.0f}%)]\\tLoss: {:.6f}'.format(\n",
        "                epoch, batch_idx * len(data), len(train_loader.dataset),\n",
        "                100. * batch_idx / len(train_loader), loss.item())) # loss.item() restituisce il float dell'errore che stiamo facendo\n",
        "            losses.append(loss.item())\n",
        "    return np.mean(losses)"
      ],
      "metadata": {
        "id": "zCOvmPbxyquP"
      },
      "execution_count": null,
      "outputs": []
    },
    {
      "cell_type": "code",
      "source": [
        "def test(model, device, test_loader):\n",
        "    model.eval()\n",
        "    test_loss = 0\n",
        "    correct = 0\n",
        "    with torch.no_grad():\n",
        "        for data, target in test_loader:\n",
        "            data, target = data.to(device), target.to(device)\n",
        "            output = model(data)\n",
        "            test_loss += F.nll_loss(output, target, reduction='sum').item()\n",
        "            pred = output.argmax(dim=1, keepdim=True)\n",
        "            correct += pred.eq(target.view_as(pred)).sum().item()\n",
        "\n",
        "    test_loss /= len(test_loader.dataset) # errori test / quante volte ci ho preso\n",
        "\n",
        "    print('\\nTest set: Average loss: {:.4f}, Accuracy: {}/{} ({:.0f}%)\\n'.format(\n",
        "        test_loss, correct, len(test_loader.dataset),\n",
        "        100. * correct / len(test_loader.dataset)))\n",
        "    test_acc = correct / len(test_loader.dataset)\n",
        "    return test_loss, test_acc"
      ],
      "metadata": {
        "id": "LR7Yvny3y6ar"
      },
      "execution_count": null,
      "outputs": []
    },
    {
      "cell_type": "code",
      "source": [
        "device = torch.device(\"cuda\") # to use the GPU # main, vogliamo usare GPU\n",
        "batch_size = 64 #iperparametro\n",
        "epochs = 10 # iperparametro\n",
        "lr = 0.001 # 0.1"
      ],
      "metadata": {
        "id": "3lbsdUutyPj9"
      },
      "execution_count": null,
      "outputs": []
    },
    {
      "cell_type": "code",
      "source": [
        "model = Net().to(device)\n",
        "optimizer = optim.SGD(model.parameters(), lr = lr, momentum = 0.9)\n",
        "#optimizer = optim.AdamW(model.parameters(), lr = lr)\n",
        "\n",
        "\n",
        "train_losses = []\n",
        "test_losses = []\n",
        "test_accuracies =[]\n",
        "\n",
        "\n",
        "for epoch in range(1, epochs + 1):\n",
        "    train_loss = train(model, device, train_loader, optimizer, epoch)\n",
        "    train_losses.append(train_loss)\n",
        "    test_loss, test_acc = test(model, device, test_loader)\n",
        "    test_losses.append(test_loss)\n",
        "    test_accuracies.append(test_acc)"
      ],
      "metadata": {
        "colab": {
          "base_uri": "https://localhost:8080/"
        },
        "id": "hbSbuZgVw0is",
        "outputId": "b1d49e5a-63dc-4449-d42a-ac0184854fdd"
      },
      "execution_count": null,
      "outputs": [
        {
          "output_type": "stream",
          "name": "stdout",
          "text": [
            "Train Epoch: 1 [0/60000 (0%)]\tLoss: 2.326155\n",
            "Train Epoch: 1 [32000/60000 (53%)]\tLoss: 0.663470\n",
            "\n",
            "Test set: Average loss: 0.2602, Accuracy: 9296/10000 (93%)\n",
            "\n",
            "Train Epoch: 2 [0/60000 (0%)]\tLoss: 0.221610\n",
            "Train Epoch: 2 [32000/60000 (53%)]\tLoss: 0.306727\n",
            "\n",
            "Test set: Average loss: 0.1369, Accuracy: 9638/10000 (96%)\n",
            "\n",
            "Train Epoch: 3 [0/60000 (0%)]\tLoss: 0.248048\n",
            "Train Epoch: 3 [32000/60000 (53%)]\tLoss: 0.155895\n",
            "\n",
            "Test set: Average loss: 0.1025, Accuracy: 9713/10000 (97%)\n",
            "\n",
            "Train Epoch: 4 [0/60000 (0%)]\tLoss: 0.151760\n",
            "Train Epoch: 4 [32000/60000 (53%)]\tLoss: 0.184631\n",
            "\n",
            "Test set: Average loss: 0.0825, Accuracy: 9777/10000 (98%)\n",
            "\n",
            "Train Epoch: 5 [0/60000 (0%)]\tLoss: 0.152696\n",
            "Train Epoch: 5 [32000/60000 (53%)]\tLoss: 0.085729\n",
            "\n",
            "Test set: Average loss: 0.0676, Accuracy: 9809/10000 (98%)\n",
            "\n",
            "Train Epoch: 6 [0/60000 (0%)]\tLoss: 0.101908\n",
            "Train Epoch: 6 [32000/60000 (53%)]\tLoss: 0.146510\n",
            "\n",
            "Test set: Average loss: 0.0641, Accuracy: 9810/10000 (98%)\n",
            "\n",
            "Train Epoch: 7 [0/60000 (0%)]\tLoss: 0.055702\n",
            "Train Epoch: 7 [32000/60000 (53%)]\tLoss: 0.190799\n",
            "\n",
            "Test set: Average loss: 0.0622, Accuracy: 9811/10000 (98%)\n",
            "\n",
            "Train Epoch: 8 [0/60000 (0%)]\tLoss: 0.035226\n",
            "Train Epoch: 8 [32000/60000 (53%)]\tLoss: 0.396733\n",
            "\n",
            "Test set: Average loss: 0.0540, Accuracy: 9831/10000 (98%)\n",
            "\n",
            "Train Epoch: 9 [0/60000 (0%)]\tLoss: 0.155131\n",
            "Train Epoch: 9 [32000/60000 (53%)]\tLoss: 0.136270\n",
            "\n",
            "Test set: Average loss: 0.0500, Accuracy: 9853/10000 (99%)\n",
            "\n",
            "Train Epoch: 10 [0/60000 (0%)]\tLoss: 0.132915\n",
            "Train Epoch: 10 [32000/60000 (53%)]\tLoss: 0.051633\n",
            "\n",
            "Test set: Average loss: 0.0472, Accuracy: 9853/10000 (99%)\n",
            "\n"
          ]
        }
      ]
    },
    {
      "cell_type": "code",
      "source": [
        "import matplotlib.pyplot as plt\n",
        "import numpy as np\n",
        "\n",
        "\n",
        "fig, (plt1, plt2) = plt.subplots(1, 2, figsize=(10, 4))  # 1 riga, 2 colonne\n",
        "\n",
        "# primo grafico\n",
        "plt1.plot(train_losses, '-o', label = 'Train Losses')\n",
        "plt1.plot(test_losses, '-o', label = 'Test Losses')\n",
        "plt1.legend()\n",
        "\n",
        "\n",
        "# secondo grafico\n",
        "plt.plot(test_accuracies, label = lr, color = 'green')\n",
        "plt.legend()\n",
        "\n",
        "\n",
        "plt.tight_layout()\n",
        "plt.show()"
      ],
      "metadata": {
        "colab": {
          "base_uri": "https://localhost:8080/",
          "height": 407
        },
        "id": "g2Y-kng_yEga",
        "outputId": "9b13ec9c-a987-4aa9-d3e6-9ddd6e93d1a0"
      },
      "execution_count": null,
      "outputs": [
        {
          "output_type": "display_data",
          "data": {
            "text/plain": [
              "<Figure size 1000x400 with 2 Axes>"
            ],
            "image/png": "[encoded data removed]"
          },
          "metadata": {}
        }
      ]
    },
    {
      "cell_type": "markdown",
      "source": [
        "# Rete con 2 Layer di Batch Normalization 1D"
      ],
      "metadata": {
        "id": "tYlldBpu2tvx"
      }
    },
    {
      "cell_type": "code",
      "source": [
        "class Net(nn.Module): # architettura rete\n",
        "    def __init__(self): # si definisce una init, sono classi che estendono module di pytorch, classe che estende Module, bisogna mettere init e forward\n",
        "        super(Net, self).__init__()\n",
        "        self.conv1 = nn.Conv2d(1, 32, 3, 1) # ha un canale di ingresso (è =1 perché le immagini MNIST hanno 1 canale), perchè le immagini di mnist hanno un canale, 32 uscite, kernel 3 e stride 1\n",
        "        self.conv2 = nn.Conv2d(32, 64, 3, 1) # i canali di ingresso diventano 32 (altrimenti il forward si romperebbe!), aumentiamo gli output, lasciamo così kernel e stride\n",
        "        self.bn1 = nn.BatchNorm1d(9216) # 1D è sui vettori, 2D è sulle immagini\n",
        "        self.bn2 = nn.BatchNorm1d(128) #dal flatten in su si può usare il batchnorm2d, dal flatten in giù si usa batchnorm1d\n",
        "        # dopo maxpooling facciamo un flatten\n",
        "        self.fc1 = nn.Linear(9216, 128) # ingresso: dimensione uscita flatten, li mappa a 128 # nb: il bias è impostato su true di default # (3 x 3 x 64 x 32) / 2\n",
        "        self.fc2 = nn.Linear(128, 10) # da 128 andiamo a 10, sarà l'ingresso della softmax\n",
        "\n",
        "    def forward(self, x):\n",
        "        x = self.conv1(x)\n",
        "        x = F.relu(x)\n",
        "\n",
        "        x = self.conv2(x)\n",
        "        x = F.relu(x)\n",
        "        x = F.max_pool2d(x, 2)\n",
        "\n",
        "        x = torch.flatten(x, 1) # da tensore diventa un vettore (non toccando il batch_size), da 3 dim si va a 2 # da qui in poi, struttura della rete piuttosto fissa\n",
        "        x = self.bn1(x)\n",
        "        x = self.fc1(x)\n",
        "        y = F.relu(x) # y\n",
        "\n",
        "        x = self.bn2(x)\n",
        "        y = self.fc2(x) # y per plottare features\n",
        "        output = F.log_softmax(y, dim=1) # l'output di questa rete sarà una softmax, è un tensore con dim numero_valori_batch x n_classi (es: batch = 64, 64 x 10, somma a 1, è come la probabilità che la rete dà a un input di appartenere a una certa classe) # in uscita abbiamo il log della softmax\n",
        "        # y qui sopra, nella log_softmax\n",
        "        return output"
      ],
      "metadata": {
        "id": "mAQo542x2-ic"
      },
      "execution_count": null,
      "outputs": []
    },
    {
      "cell_type": "code",
      "source": [
        "def train(model, device, train_loader, optimizer, epoch):\n",
        "    model.train()\n",
        "    losses = []\n",
        "    for batch_idx, (data, target) in enumerate(train_loader):\n",
        "        data, target = data.to(device), target.to(device)\n",
        "        optimizer.zero_grad()\n",
        "        output = model(data)\n",
        "        loss = F.nll_loss(output, target)\n",
        "        loss.backward()\n",
        "        optimizer.step()\n",
        "\n",
        "        if batch_idx % 500 == 0:\n",
        "            print('Train Epoch: {} [{}/{} ({:.0f}%)]\\tLoss: {:.6f}'.format(\n",
        "                epoch, batch_idx * len(data), len(train_loader.dataset),\n",
        "                100. * batch_idx / len(train_loader), loss.item())) # loss.item() restituisce il float dell'errore che stiamo facendo\n",
        "            losses.append(loss.item())\n",
        "    return np.mean(losses)"
      ],
      "metadata": {
        "id": "CUpAFd983aof"
      },
      "execution_count": null,
      "outputs": []
    },
    {
      "cell_type": "code",
      "source": [
        "def test(model, device, test_loader):\n",
        "    model.eval()\n",
        "    test_loss = 0\n",
        "    correct = 0\n",
        "    with torch.no_grad():\n",
        "        for data, target in test_loader:\n",
        "            data, target = data.to(device), target.to(device)\n",
        "            output = model(data)\n",
        "            test_loss += F.nll_loss(output, target, reduction='sum').item()\n",
        "            pred = output.argmax(dim=1, keepdim=True)\n",
        "            correct += pred.eq(target.view_as(pred)).sum().item()\n",
        "\n",
        "    test_loss /= len(test_loader.dataset) # errori test / quante volte ci ho preso\n",
        "\n",
        "    print('\\nTest set: Average loss: {:.4f}, Accuracy: {}/{} ({:.0f}%)\\n'.format(\n",
        "        test_loss, correct, len(test_loader.dataset),\n",
        "        100. * correct / len(test_loader.dataset)))\n",
        "    test_acc = correct / len(test_loader.dataset)\n",
        "    return test_loss, test_acc"
      ],
      "metadata": {
        "id": "Jum0Ob_K3azV"
      },
      "execution_count": null,
      "outputs": []
    },
    {
      "cell_type": "code",
      "source": [
        "device = torch.device(\"cuda\") # to use the GPU # main, vogliamo usare GPU\n",
        "batch_size = 64 #iperparametro\n",
        "epochs = 10 # iperparametro\n",
        "lr = 0.001 # 0.1"
      ],
      "metadata": {
        "id": "Nz7LtUaG3ii8"
      },
      "execution_count": null,
      "outputs": []
    },
    {
      "cell_type": "code",
      "source": [
        "model = Net().to(device)\n",
        "optimizer = optim.SGD(model.parameters(), lr = lr, momentum = 0.9)\n",
        "#optimizer = optim.AdamW(model.parameters(), lr = lr)\n",
        "\n",
        "train_losses = []\n",
        "test_losses = []\n",
        "test_accuracies =[]\n",
        "\n",
        "\n",
        "for epoch in range(1, epochs + 1):\n",
        "    train_loss = train(model, device, train_loader, optimizer, epoch)\n",
        "    train_losses.append(train_loss)\n",
        "    test_loss, test_acc = test(model, device, test_loader)\n",
        "    test_losses.append(test_loss)\n",
        "    test_accuracies.append(test_acc)"
      ],
      "metadata": {
        "colab": {
          "base_uri": "https://localhost:8080/"
        },
        "id": "ZpwT6U3f3nmJ",
        "outputId": "ac82f526-2787-4439-f8c2-3fe69b243ead"
      },
      "execution_count": null,
      "outputs": [
        {
          "output_type": "stream",
          "name": "stdout",
          "text": [
            "Train Epoch: 1 [0/60000 (0%)]\tLoss: 2.423983\n",
            "Train Epoch: 1 [32000/60000 (53%)]\tLoss: 0.119615\n",
            "\n",
            "Test set: Average loss: 0.0672, Accuracy: 9836/10000 (98%)\n",
            "\n",
            "Train Epoch: 2 [0/60000 (0%)]\tLoss: 0.061147\n",
            "Train Epoch: 2 [32000/60000 (53%)]\tLoss: 0.067748\n",
            "\n",
            "Test set: Average loss: 0.0508, Accuracy: 9855/10000 (99%)\n",
            "\n",
            "Train Epoch: 3 [0/60000 (0%)]\tLoss: 0.039007\n",
            "Train Epoch: 3 [32000/60000 (53%)]\tLoss: 0.040210\n",
            "\n",
            "Test set: Average loss: 0.0465, Accuracy: 9868/10000 (99%)\n",
            "\n",
            "Train Epoch: 4 [0/60000 (0%)]\tLoss: 0.009558\n",
            "Train Epoch: 4 [32000/60000 (53%)]\tLoss: 0.029713\n",
            "\n",
            "Test set: Average loss: 0.0429, Accuracy: 9879/10000 (99%)\n",
            "\n",
            "Train Epoch: 5 [0/60000 (0%)]\tLoss: 0.024661\n",
            "Train Epoch: 5 [32000/60000 (53%)]\tLoss: 0.020045\n",
            "\n",
            "Test set: Average loss: 0.0405, Accuracy: 9878/10000 (99%)\n",
            "\n",
            "Train Epoch: 6 [0/60000 (0%)]\tLoss: 0.012486\n",
            "Train Epoch: 6 [32000/60000 (53%)]\tLoss: 0.018475\n",
            "\n",
            "Test set: Average loss: 0.0397, Accuracy: 9873/10000 (99%)\n",
            "\n",
            "Train Epoch: 7 [0/60000 (0%)]\tLoss: 0.009336\n",
            "Train Epoch: 7 [32000/60000 (53%)]\tLoss: 0.014571\n",
            "\n",
            "Test set: Average loss: 0.0397, Accuracy: 9878/10000 (99%)\n",
            "\n",
            "Train Epoch: 8 [0/60000 (0%)]\tLoss: 0.005252\n",
            "Train Epoch: 8 [32000/60000 (53%)]\tLoss: 0.003929\n",
            "\n",
            "Test set: Average loss: 0.0376, Accuracy: 9879/10000 (99%)\n",
            "\n",
            "Train Epoch: 9 [0/60000 (0%)]\tLoss: 0.002986\n",
            "Train Epoch: 9 [32000/60000 (53%)]\tLoss: 0.004150\n",
            "\n",
            "Test set: Average loss: 0.0408, Accuracy: 9865/10000 (99%)\n",
            "\n",
            "Train Epoch: 10 [0/60000 (0%)]\tLoss: 0.005580\n",
            "Train Epoch: 10 [32000/60000 (53%)]\tLoss: 0.006930\n",
            "\n",
            "Test set: Average loss: 0.0400, Accuracy: 9878/10000 (99%)\n",
            "\n"
          ]
        }
      ]
    },
    {
      "cell_type": "code",
      "source": [
        "import matplotlib.pyplot as plt\n",
        "import numpy as np\n",
        "\n",
        "\n",
        "fig, (plt1, plt2) = plt.subplots(1, 2, figsize=(10, 4))  # 1 riga, 2 colonne\n",
        "\n",
        "# primo grafico\n",
        "plt1.plot(train_losses, '-o', label = 'Train Losses')\n",
        "plt1.plot(test_losses, '-o', label = 'Test Losses')\n",
        "plt1.legend()\n",
        "\n",
        "\n",
        "# secondo grafico\n",
        "plt.plot(test_accuracies, label = lr, color = 'green')\n",
        "plt.legend()\n",
        "\n",
        "\n",
        "\n",
        "plt.tight_layout()\n",
        "plt.show()"
      ],
      "metadata": {
        "colab": {
          "base_uri": "https://localhost:8080/",
          "height": 407
        },
        "id": "ZEQfvVG44XMC",
        "outputId": "963920d5-e30c-4d42-a3d1-b015c98938e3"
      },
      "execution_count": null,
      "outputs": [
        {
          "output_type": "display_data",
          "data": {
            "text/plain": [
              "<Figure size 1000x400 with 2 Axes>"
            ],
            "image/png": "[encoded data removed]"
          },
          "metadata": {}
        }
      ]
    },
    {
      "cell_type": "markdown",
      "source": [
        "# Stride = 2 No MaxPool2D"
      ],
      "metadata": {
        "id": "pi25WtmS5jQz"
      }
    },
    {
      "cell_type": "code",
      "source": [
        "class Net(nn.Module):\n",
        "    def __init__(self):\n",
        "        super(Net, self).__init__()\n",
        "        self.conv1 = nn.Conv2d(1, 32, 3, 2)\n",
        "        self.conv2 = nn.Conv2d(32, 64, 3, 2)\n",
        "        self.fc1 = nn.Linear(2304, 128)\n",
        "        self.fc2 = nn.Linear(128, 10)\n",
        "\n",
        "    def forward(self, x):\n",
        "        x = self.conv1(x)\n",
        "        x = F.relu(x)\n",
        "\n",
        "        x = self.conv2(x)\n",
        "        x = F.relu(x)\n",
        "\n",
        "        x = torch.flatten(x, 1)\n",
        "\n",
        "        x = self.fc1(x)\n",
        "        y = F.relu(x)\n",
        "\n",
        "        y = self.fc2(x)\n",
        "        output = F.log_softmax(y, dim=1) # l'output di questa rete sarà una softmax, è un tensore con dim numero_valori_batch x n_classi (es: batch = 64, 64 x 10, somma a 1, è come la probabilità che la rete dà a un input di appartenere a una certa classe) # in uscita abbiamo il log della softmax\n",
        "        # y qui sopra, nella log_softmax\n",
        "        return output"
      ],
      "metadata": {
        "id": "HFaXmDR156uz"
      },
      "execution_count": null,
      "outputs": []
    },
    {
      "cell_type": "code",
      "source": [
        "def train(model, device, train_loader, optimizer, epoch):\n",
        "    model.train()\n",
        "    losses = []\n",
        "    for batch_idx, (data, target) in enumerate(train_loader):\n",
        "        data, target = data.to(device), target.to(device)\n",
        "        optimizer.zero_grad()\n",
        "        output = model(data)\n",
        "        loss = F.nll_loss(output, target)\n",
        "        loss.backward()\n",
        "        optimizer.step()\n",
        "\n",
        "        if batch_idx % 500 == 0:\n",
        "            print('Train Epoch: {} [{}/{} ({:.0f}%)]\\tLoss: {:.6f}'.format(\n",
        "                epoch, batch_idx * len(data), len(train_loader.dataset),\n",
        "                100. * batch_idx / len(train_loader), loss.item())) # loss.item() restituisce il float dell'errore che stiamo facendo\n",
        "            losses.append(loss.item())\n",
        "    return np.mean(losses)"
      ],
      "metadata": {
        "id": "LjZG_-UB9deZ"
      },
      "execution_count": null,
      "outputs": []
    },
    {
      "cell_type": "code",
      "source": [
        "def test(model, device, test_loader):\n",
        "    model.eval()\n",
        "    test_loss = 0\n",
        "    correct = 0\n",
        "    with torch.no_grad():\n",
        "        for data, target in test_loader:\n",
        "            data, target = data.to(device), target.to(device)\n",
        "            output = model(data)\n",
        "            test_loss += F.nll_loss(output, target, reduction='sum').item()\n",
        "            pred = output.argmax(dim=1, keepdim=True)\n",
        "            correct += pred.eq(target.view_as(pred)).sum().item()\n",
        "\n",
        "    test_loss /= len(test_loader.dataset) # errori test / quante volte ci ho preso\n",
        "\n",
        "    print('\\nTest set: Average loss: {:.4f}, Accuracy: {}/{} ({:.0f}%)\\n'.format(\n",
        "        test_loss, correct, len(test_loader.dataset),\n",
        "        100. * correct / len(test_loader.dataset)))\n",
        "    test_acc = correct / len(test_loader.dataset)\n",
        "    return test_loss, test_acc"
      ],
      "metadata": {
        "id": "UMhQMFzX9g7u"
      },
      "execution_count": null,
      "outputs": []
    },
    {
      "cell_type": "code",
      "source": [
        "device = torch.device(\"cuda\") # to use the GPU # main, vogliamo usare GPU\n",
        "batch_size = 64 #iperparametro\n",
        "epochs = 10 # iperparametro\n",
        "lr = 0.001 # 0.1"
      ],
      "metadata": {
        "id": "F4b5lU9Z9kNY"
      },
      "execution_count": null,
      "outputs": []
    },
    {
      "cell_type": "code",
      "source": [
        "model = Net().to(device)\n",
        "optimizer = optim.SGD(model.parameters(), lr = lr, momentum = 0.9)\n",
        "#optimizer = optim.AdamW(model.parameters(), lr = lr)\n",
        "\n",
        "train_losses = []\n",
        "test_losses = []\n",
        "test_accuracies =[]\n",
        "\n",
        "\n",
        "for epoch in range(1, epochs + 1):\n",
        "    train_loss = train(model, device, train_loader, optimizer, epoch)\n",
        "    train_losses.append(train_loss)\n",
        "    test_loss, test_acc = test(model, device, test_loader)\n",
        "    test_losses.append(test_loss)\n",
        "    test_accuracies.append(test_acc)"
      ],
      "metadata": {
        "colab": {
          "base_uri": "https://localhost:8080/"
        },
        "id": "GzkZT9DS9of0",
        "outputId": "3c1202c1-3542-47b0-d3b5-4b79866086a2"
      },
      "execution_count": null,
      "outputs": [
        {
          "output_type": "stream",
          "name": "stdout",
          "text": [
            "Train Epoch: 1 [0/60000 (0%)]\tLoss: 2.310757\n",
            "Train Epoch: 1 [32000/60000 (53%)]\tLoss: 0.287043\n",
            "\n",
            "Test set: Average loss: 0.3147, Accuracy: 9093/10000 (91%)\n",
            "\n",
            "Train Epoch: 2 [0/60000 (0%)]\tLoss: 0.633412\n",
            "Train Epoch: 2 [32000/60000 (53%)]\tLoss: 0.179113\n",
            "\n",
            "Test set: Average loss: 0.2380, Accuracy: 9327/10000 (93%)\n",
            "\n",
            "Train Epoch: 3 [0/60000 (0%)]\tLoss: 0.228007\n",
            "Train Epoch: 3 [32000/60000 (53%)]\tLoss: 0.269306\n",
            "\n",
            "Test set: Average loss: 0.1782, Accuracy: 9516/10000 (95%)\n",
            "\n",
            "Train Epoch: 4 [0/60000 (0%)]\tLoss: 0.347916\n",
            "Train Epoch: 4 [32000/60000 (53%)]\tLoss: 0.092286\n",
            "\n",
            "Test set: Average loss: 0.1385, Accuracy: 9602/10000 (96%)\n",
            "\n",
            "Train Epoch: 5 [0/60000 (0%)]\tLoss: 0.139647\n",
            "Train Epoch: 5 [32000/60000 (53%)]\tLoss: 0.125954\n",
            "\n",
            "Test set: Average loss: 0.1046, Accuracy: 9695/10000 (97%)\n",
            "\n",
            "Train Epoch: 6 [0/60000 (0%)]\tLoss: 0.127864\n",
            "Train Epoch: 6 [32000/60000 (53%)]\tLoss: 0.116745\n",
            "\n",
            "Test set: Average loss: 0.0877, Accuracy: 9721/10000 (97%)\n",
            "\n",
            "Train Epoch: 7 [0/60000 (0%)]\tLoss: 0.039067\n",
            "Train Epoch: 7 [32000/60000 (53%)]\tLoss: 0.167114\n",
            "\n",
            "Test set: Average loss: 0.0745, Accuracy: 9756/10000 (98%)\n",
            "\n",
            "Train Epoch: 8 [0/60000 (0%)]\tLoss: 0.063295\n",
            "Train Epoch: 8 [32000/60000 (53%)]\tLoss: 0.029179\n",
            "\n",
            "Test set: Average loss: 0.0713, Accuracy: 9783/10000 (98%)\n",
            "\n",
            "Train Epoch: 9 [0/60000 (0%)]\tLoss: 0.139066\n",
            "Train Epoch: 9 [32000/60000 (53%)]\tLoss: 0.070269\n",
            "\n",
            "Test set: Average loss: 0.0631, Accuracy: 9799/10000 (98%)\n",
            "\n",
            "Train Epoch: 10 [0/60000 (0%)]\tLoss: 0.105206\n",
            "Train Epoch: 10 [32000/60000 (53%)]\tLoss: 0.125170\n",
            "\n",
            "Test set: Average loss: 0.0629, Accuracy: 9808/10000 (98%)\n",
            "\n"
          ]
        }
      ]
    },
    {
      "cell_type": "code",
      "source": [
        "import matplotlib.pyplot as plt\n",
        "import numpy as np\n",
        "\n",
        "\n",
        "fig, (plt1, plt2) = plt.subplots(1, 2, figsize=(10, 4))  # 1 riga, 2 colonne\n",
        "\n",
        "# primo grafico\n",
        "plt1.plot(train_losses, '-o', label = 'Train Losses')\n",
        "plt1.plot(test_losses, '-o', label = 'Test Losses')\n",
        "plt1.legend()\n",
        "\n",
        "\n",
        "# secondo grafico\n",
        "plt.plot(test_accuracies, label = lr, color = 'green')\n",
        "plt.legend()\n",
        "\n",
        "\n",
        "plt.tight_layout()\n",
        "plt.show()"
      ],
      "metadata": {
        "colab": {
          "base_uri": "https://localhost:8080/",
          "height": 407
        },
        "id": "iLih5Epe_A-g",
        "outputId": "4679519b-2357-407a-9311-89d962794f21"
      },
      "execution_count": null,
      "outputs": [
        {
          "output_type": "display_data",
          "data": {
            "text/plain": [
              "<Figure size 1000x400 with 2 Axes>"
            ],
            "image/png": "[encoded data removed]"
          },
          "metadata": {}
        }
      ]
    },
    {
      "cell_type": "markdown",
      "source": [
        "# Rete con Kernel 5x5"
      ],
      "metadata": {
        "id": "QngPgJbKAuVV"
      }
    },
    {
      "cell_type": "code",
      "source": [
        "class Net(nn.Module):\n",
        "    def __init__(self):\n",
        "        super(Net, self).__init__()\n",
        "        self.conv1 = nn.Conv2d(1, 32, 5, 1)\n",
        "        self.conv2 = nn.Conv2d(32, 64, 5, 1)\n",
        "\n",
        "        self.fc1 = nn.Linear(6400, 128) # ingresso: dimensione uscita flatten, li mappa a 128 # nb: il bias è impostato su true di default # (3 x 3 x 64 x 32) / 2\n",
        "        self.fc2 = nn.Linear(128, 10) # da 128 andiamo a 10, sarà l'ingresso della softmax\n",
        "\n",
        "\n",
        "\n",
        "    def forward(self, x):\n",
        "        x = self.conv1(x) # 24\n",
        "        x = F.relu(x)\n",
        "\n",
        "        x = self.conv2(x) # 20\n",
        "        x = F.relu(x)\n",
        "        x = F.max_pool2d(x, 2) # 10\n",
        "\n",
        "        x = torch.flatten(x, 1)  # 64 x10x10\n",
        "\n",
        "        x = self.fc1(x)\n",
        "        y = F.relu(x)\n",
        "\n",
        "        y = self.fc2(x)\n",
        "        output = F.log_softmax(y, dim=1) # l'output di questa rete sarà una softmax, è un tensore con dim numero_valori_batch x n_classi (es: batch = 64, 64 x 10, somma a 1, è come la probabilità che la rete dà a un input di appartenere a una certa classe) # in uscita abbiamo il log della softmax\n",
        "        # y qui sopra, nella log_softmax\n",
        "        return output\n"
      ],
      "metadata": {
        "id": "dgrAcNByAt_J"
      },
      "execution_count": null,
      "outputs": []
    },
    {
      "cell_type": "code",
      "source": [
        "def train(model, device, train_loader, optimizer, epoch):\n",
        "    model.train()\n",
        "    losses = []\n",
        "    for batch_idx, (data, target) in enumerate(train_loader):\n",
        "        data, target = data.to(device), target.to(device)\n",
        "        optimizer.zero_grad()\n",
        "        output = model(data)\n",
        "        loss = F.nll_loss(output, target)\n",
        "        loss.backward()\n",
        "        optimizer.step()\n",
        "\n",
        "        if batch_idx % 500 == 0:\n",
        "            print('Train Epoch: {} [{}/{} ({:.0f}%)]\\tLoss: {:.6f}'.format(\n",
        "                epoch, batch_idx * len(data), len(train_loader.dataset),\n",
        "                100. * batch_idx / len(train_loader), loss.item())) # loss.item() restituisce il float dell'errore che stiamo facendo\n",
        "            losses.append(loss.item())\n",
        "    return np.mean(losses)"
      ],
      "metadata": {
        "id": "bOxyWzwGDIBI"
      },
      "execution_count": null,
      "outputs": []
    },
    {
      "cell_type": "code",
      "source": [
        "def test(model, device, test_loader):\n",
        "    model.eval()\n",
        "    test_loss = 0\n",
        "    correct = 0\n",
        "    with torch.no_grad():\n",
        "        for data, target in test_loader:\n",
        "            data, target = data.to(device), target.to(device)\n",
        "            output = model(data)\n",
        "            test_loss += F.nll_loss(output, target, reduction='sum').item()\n",
        "            pred = output.argmax(dim=1, keepdim=True)\n",
        "            correct += pred.eq(target.view_as(pred)).sum().item()\n",
        "\n",
        "    test_loss /= len(test_loader.dataset) # errori test / quante volte ci ho preso\n",
        "\n",
        "    print('\\nTest set: Average loss: {:.4f}, Accuracy: {}/{} ({:.0f}%)\\n'.format(\n",
        "        test_loss, correct, len(test_loader.dataset),\n",
        "        100. * correct / len(test_loader.dataset)))\n",
        "    test_acc = correct / len(test_loader.dataset)\n",
        "    return test_loss, test_acc"
      ],
      "metadata": {
        "id": "zhJdKq3CDL-l"
      },
      "execution_count": null,
      "outputs": []
    },
    {
      "cell_type": "code",
      "source": [
        "device = torch.device(\"cuda\") # to use the GPU # main, vogliamo usare GPU\n",
        "batch_size = 64 #iperparametro\n",
        "epochs = 10 # iperparametro\n",
        "lr = 0.001 # 0.1"
      ],
      "metadata": {
        "id": "CpQThrQUDPJW"
      },
      "execution_count": null,
      "outputs": []
    },
    {
      "cell_type": "code",
      "source": [
        "model = Net().to(device)\n",
        "optimizer = optim.SGD(model.parameters(), lr = lr, momentum = 0.9)\n",
        "#optimizer = optim.AdamW(model.parameters(), lr = lr)\n",
        "\n",
        "train_losses = []\n",
        "test_losses = []\n",
        "test_accuracies =[]\n",
        "\n",
        "\n",
        "for epoch in range(1, epochs + 1):\n",
        "    train_loss = train(model, device, train_loader, optimizer, epoch)\n",
        "    train_losses.append(train_loss)\n",
        "    test_loss, test_acc = test(model, device, test_loader)\n",
        "    test_losses.append(test_loss)\n",
        "    test_accuracies.append(test_acc)"
      ],
      "metadata": {
        "colab": {
          "base_uri": "https://localhost:8080/"
        },
        "id": "91-lYW-4DSOv",
        "outputId": "3a462082-6fb0-4cbe-913f-1f0d0bab401e"
      },
      "execution_count": null,
      "outputs": [
        {
          "output_type": "stream",
          "name": "stdout",
          "text": [
            "Train Epoch: 1 [0/60000 (0%)]\tLoss: 2.307014\n",
            "Train Epoch: 1 [32000/60000 (53%)]\tLoss: 0.199578\n",
            "\n",
            "Test set: Average loss: 0.1392, Accuracy: 9561/10000 (96%)\n",
            "\n",
            "Train Epoch: 2 [0/60000 (0%)]\tLoss: 0.093624\n",
            "Train Epoch: 2 [32000/60000 (53%)]\tLoss: 0.069624\n",
            "\n",
            "Test set: Average loss: 0.0845, Accuracy: 9739/10000 (97%)\n",
            "\n",
            "Train Epoch: 3 [0/60000 (0%)]\tLoss: 0.075706\n",
            "Train Epoch: 3 [32000/60000 (53%)]\tLoss: 0.026465\n",
            "\n",
            "Test set: Average loss: 0.0631, Accuracy: 9788/10000 (98%)\n",
            "\n",
            "Train Epoch: 4 [0/60000 (0%)]\tLoss: 0.022388\n",
            "Train Epoch: 4 [32000/60000 (53%)]\tLoss: 0.058537\n",
            "\n",
            "Test set: Average loss: 0.0498, Accuracy: 9844/10000 (98%)\n",
            "\n",
            "Train Epoch: 5 [0/60000 (0%)]\tLoss: 0.036853\n",
            "Train Epoch: 5 [32000/60000 (53%)]\tLoss: 0.114314\n",
            "\n",
            "Test set: Average loss: 0.0467, Accuracy: 9843/10000 (98%)\n",
            "\n",
            "Train Epoch: 6 [0/60000 (0%)]\tLoss: 0.007214\n",
            "Train Epoch: 6 [32000/60000 (53%)]\tLoss: 0.037420\n",
            "\n",
            "Test set: Average loss: 0.0424, Accuracy: 9857/10000 (99%)\n",
            "\n",
            "Train Epoch: 7 [0/60000 (0%)]\tLoss: 0.125670\n",
            "Train Epoch: 7 [32000/60000 (53%)]\tLoss: 0.065632\n",
            "\n",
            "Test set: Average loss: 0.0424, Accuracy: 9863/10000 (99%)\n",
            "\n",
            "Train Epoch: 8 [0/60000 (0%)]\tLoss: 0.115063\n",
            "Train Epoch: 8 [32000/60000 (53%)]\tLoss: 0.022113\n",
            "\n",
            "Test set: Average loss: 0.0386, Accuracy: 9876/10000 (99%)\n",
            "\n",
            "Train Epoch: 9 [0/60000 (0%)]\tLoss: 0.006688\n",
            "Train Epoch: 9 [32000/60000 (53%)]\tLoss: 0.089002\n",
            "\n",
            "Test set: Average loss: 0.0392, Accuracy: 9864/10000 (99%)\n",
            "\n",
            "Train Epoch: 10 [0/60000 (0%)]\tLoss: 0.008020\n",
            "Train Epoch: 10 [32000/60000 (53%)]\tLoss: 0.076392\n",
            "\n",
            "Test set: Average loss: 0.0400, Accuracy: 9863/10000 (99%)\n",
            "\n"
          ]
        }
      ]
    },
    {
      "cell_type": "code",
      "source": [
        "import matplotlib.pyplot as plt\n",
        "import numpy as np\n",
        "\n",
        "\n",
        "fig, (plt1, plt2) = plt.subplots(1, 2, figsize=(10, 4))  # 1 riga, 2 colonne\n",
        "\n",
        "# primo grafico\n",
        "plt1.plot(train_losses, '-o', label = 'Train Losses')\n",
        "plt1.plot(test_losses, '-o', label = 'Test Losses')\n",
        "plt1.legend()\n",
        "\n",
        "\n",
        "# secondo grafico\n",
        "plt.plot(test_accuracies, label = lr, color = 'green')\n",
        "plt.legend()\n",
        "\n",
        "\n",
        "\n",
        "plt.tight_layout()\n",
        "plt.show()"
      ],
      "metadata": {
        "colab": {
          "base_uri": "https://localhost:8080/",
          "height": 407
        },
        "id": "FwBN_i0AEhWA",
        "outputId": "23f579c0-76d8-4ce2-a4c7-76dc4aa3a0d6"
      },
      "execution_count": null,
      "outputs": [
        {
          "output_type": "display_data",
          "data": {
            "text/plain": [
              "<Figure size 1000x400 with 2 Axes>"
            ],
            "image/png": "[encoded data removed]"
          },
          "metadata": {}
        }
      ]
    },
    {
      "cell_type": "markdown",
      "source": [
        "## Exercise 2\n",
        "\n",
        "Try to work with the hyperparameters (batch_size, learning_rate, ...).\n",
        "\n",
        "In particular try to focus on the optimization part. Change algorithm, momentum, parameters...\n",
        "\n",
        "How can it be improved?\n",
        "\n",
        "cercare torch.optim (msprop, adam, adamw), cambiare ottimizzatore\n",
        "\n",
        "nn.BatchNorm"
      ],
      "metadata": {
        "id": "wtOWItYnOz5l"
      }
    },
    {
      "cell_type": "code",
      "source": [
        "# 0.01 0.001 0.001\n",
        "# con momentum 0.9, senza momentum\n",
        "# b_64 e b_128\n",
        "# provare msprop, adam, adamw"
      ],
      "metadata": {
        "id": "2XMx5iJjGnKX"
      },
      "execution_count": null,
      "outputs": []
    },
    {
      "cell_type": "code",
      "source": [
        "class Net(nn.Module):\n",
        "    def __init__(self):\n",
        "        super(Net, self).__init__()\n",
        "        self.conv1 = nn.Conv2d(1, 32, 3, 1)\n",
        "        self.conv2 = nn.Conv2d(32, 64, 3, 1)\n",
        "        self.fc1 = nn.Linear(9216, 128)\n",
        "        self.fc2 = nn.Linear(128, 10)\n",
        "\n",
        "    def forward(self, x):\n",
        "        x = self.conv1(x)\n",
        "        x = F.relu(x)\n",
        "        x = self.conv2(x)\n",
        "        x = F.relu(x)\n",
        "        x = F.max_pool2d(x, 2)\n",
        "        x = torch.flatten(x, 1)\n",
        "        x = self.fc1(x)\n",
        "        y = F.relu(x)\n",
        "        y = self.fc2(x)\n",
        "        output = F.log_softmax(y, dim=1)\n",
        "        return output"
      ],
      "metadata": {
        "id": "QnYGBBS6HAm5"
      },
      "execution_count": null,
      "outputs": []
    }
  ]
}